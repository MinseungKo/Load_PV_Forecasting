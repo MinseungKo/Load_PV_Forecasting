{
 "cells": [
  {
   "cell_type": "code",
   "execution_count": 1,
   "metadata": {},
   "outputs": [],
   "source": [
    "import pandas as pd\n",
    "import codecs\n",
    "import numpy as np\n",
    "import math\n",
    "import csv\n",
    "import time\n",
    "from sklearn.preprocessing import MinMaxScaler\n",
    "from sklearn.metrics import mean_squared_error\n",
    "from sklearn.metrics import mean_absolute_error\n",
    "from sklearn.metrics import recall_score, precision_score # New\n",
    "from sklearn.metrics import f1_score\n",
    "from sklearn.metrics import confusion_matrix\n",
    "from sklearn import preprocessing\n",
    "import matplotlib.pyplot as plt\n",
    "from scipy import signal\n",
    "import openpyxl\n",
    "from sklearn import gaussian_process\n",
    "from sklearn.gaussian_process.kernels import Matern, WhiteKernel, ConstantKernel\n",
    "\n",
    "def create_dataset(dataset, timesteps, output_timesteps):\n",
    "    dataX, dataY = [], []\n",
    "    for i in range(len(dataset) - timesteps -output_timesteps - 1):\n",
    "        a = dataset[i:(i + timesteps), :]\n",
    "        dataX.append(a)\n",
    "        dataY.append(dataset[(i + timesteps):(i+timesteps+output_timesteps), :])\n",
    "    return np.array(dataX), np.array(dataY)\n",
    "\n",
    "def mae(y_true, y_pred):\n",
    "    y_true, y_pred = np.array(y_true), np.array(y_pred)\n",
    "    return np.mean(np.abs(y_true - y_pred))\n",
    "\n",
    "def root_mean_squared_error(y_true, y_pred):\n",
    "        return np.sqrt(np.mean(np.square(y_true- y_pred))) "
   ]
  },
  {
   "cell_type": "code",
   "execution_count": 2,
   "metadata": {},
   "outputs": [],
   "source": [
    "PV = 'C:/Users/Smartgrid_ML/Documents/KMS/btm_data/korean_data/pv/seobu_pv.csv'\n",
    "pv_source = pd.read_csv(PV, encoding='CP949')\n",
    "pv_source = pd.DataFrame(pv_source)\n",
    "pv_source = pv_source.iloc[0:1277, :]\n",
    "pv_data = np.array(pv_source)\n",
    "\n",
    "weather_17 = 'C:/Users/Smartgrid_ML/Documents/KMS/btm_data/korean_data/pv/mokpo_2017.csv'\n",
    "weather_18 = 'C:/Users/Smartgrid_ML/Documents/KMS/btm_data/korean_data/pv/mokpo_2018.csv'\n",
    "weather_19 = 'C:/Users/Smartgrid_ML/Documents/KMS/btm_data/korean_data/pv/mokpo_2019.csv'\n",
    "weather_20 = 'C:/Users/Smartgrid_ML/Documents/KMS/btm_data/korean_data/pv/mokpo_2020.csv'\n",
    "\n",
    "weather_17 = pd.read_csv(weather_17, encoding='CP949')\n",
    "weather_18 = pd.read_csv(weather_18, encoding='CP949')\n",
    "weather_19 = pd.read_csv(weather_19, encoding='CP949')\n",
    "weather_20 = pd.read_csv(weather_20, encoding='CP949')\n",
    "weather = pd.concat([weather_17,weather_18,weather_19,weather_20])\n",
    "weather_data = np.array(weather)\n",
    "\n",
    "pv_data = np.nan_to_num(pv_data)\n",
    "weather_data = np.nan_to_num(weather_data)\n",
    "pv_dat = pv_data[:, 2:]\n",
    "weather_dat = weather_data[:, 3:]\n",
    "pv_dat = pv_dat.reshape(-1,1)\n",
    "\n",
    "dataset = np.hstack([pv_dat, weather_dat])\n",
    "index = ['Measured PV', 'Temperature C', 'Rainfall', 'Wind speed', 'Wind direction', 'Humidity', 'Air pressure', 'Dew point C', 'Sunshine', 'Solar radiation', 'Snowfall', 'Cloud cover', 'Surface temp C']\n",
    "\n",
    "df = pd.DataFrame(dataset, columns=index)\n",
    "df.head()\n",
    "df = df.fillna(0)"
   ]
  },
  {
   "cell_type": "code",
   "execution_count": 3,
   "metadata": {},
   "outputs": [
    {
     "name": "stdout",
     "output_type": "stream",
     "text": [
      "(30605, 30, 1)\n",
      "(30605, 12, 1)\n"
     ]
    }
   ],
   "source": [
    "df = np.array(df)\n",
    "pv = df[:,0]\n",
    "pv = pv.reshape(-1,1)\n",
    "scaler = MinMaxScaler(feature_range=(0, 1))\n",
    "pv = scaler.fit_transform(pv)\n",
    "\n",
    "X, Y = create_dataset(pv, 30, 12)\n",
    "print(X.shape)\n",
    "print(Y.shape)\n",
    "\n",
    "#Training_set = X[0:21447]\n",
    "#Test_set = X[21448:]"
   ]
  },
  {
   "cell_type": "code",
   "execution_count": 4,
   "metadata": {},
   "outputs": [
    {
     "name": "stdout",
     "output_type": "stream",
     "text": [
      "(21447, 30)\n"
     ]
    }
   ],
   "source": [
    "trX = X[:21447, :, :].reshape(-1,30)\n",
    "teX = X[21447:, :, :].reshape(-1,30)\n",
    "trY = Y[:21447, :, :].reshape(-1,12)\n",
    "teY = Y[21447:, :, :].reshape(-1,12)\n",
    "print(trX.shape)"
   ]
  },
  {
   "cell_type": "code",
   "execution_count": 5,
   "metadata": {},
   "outputs": [],
   "source": [
    "kernel = ConstantKernel() + Matern(length_scale=2, nu=3/2) + WhiteKernel(noise_level=1)"
   ]
  },
  {
   "cell_type": "code",
   "execution_count": 6,
   "metadata": {},
   "outputs": [
    {
     "name": "stdout",
     "output_type": "stream",
     "text": [
      "initial params\n",
      "{'alpha': 1e-10, 'copy_X_train': True, 'kernel__k1': 1**2 + Matern(length_scale=2, nu=1.5), 'kernel__k2': WhiteKernel(noise_level=1), 'kernel__k1__k1': 1**2, 'kernel__k1__k2': Matern(length_scale=2, nu=1.5), 'kernel__k1__k1__constant_value': 1.0, 'kernel__k1__k1__constant_value_bounds': (1e-05, 100000.0), 'kernel__k1__k2__length_scale': 2, 'kernel__k1__k2__length_scale_bounds': (1e-05, 100000.0), 'kernel__k1__k2__nu': 1.5, 'kernel__k2__noise_level': 1, 'kernel__k2__noise_level_bounds': (1e-05, 100000.0), 'kernel': 1**2 + Matern(length_scale=2, nu=1.5) + WhiteKernel(noise_level=1), 'n_restarts_optimizer': 2, 'normalize_y': False, 'optimizer': 'fmin_l_bfgs_b', 'random_state': None}\n"
     ]
    }
   ],
   "source": [
    "gp = gaussian_process.GaussianProcessRegressor(kernel=kernel, n_restarts_optimizer=2)\n",
    "print(\"initial params\")\n",
    "params = gp.get_params()\n",
    "print(params)"
   ]
  },
  {
   "cell_type": "code",
   "execution_count": 7,
   "metadata": {},
   "outputs": [
    {
     "name": "stdout",
     "output_type": "stream",
     "text": [
      "0.0 ended\n",
      "1.0 ended\n",
      "2.0 ended\n",
      "3.0 ended\n",
      "4.0 ended\n",
      "5.0 ended\n",
      "6.0 ended\n",
      "7.0 ended\n",
      "8.0 ended\n",
      "learned kernel params\n",
      "{'k1': 0.14**2 + Matern(length_scale=6.05, nu=1.5), 'k2': WhiteKernel(noise_level=0.015), 'k1__k1': 0.14**2, 'k1__k2': Matern(length_scale=6.05, nu=1.5), 'k1__k1__constant_value': 0.019577029563222614, 'k1__k1__constant_value_bounds': (1e-05, 100000.0), 'k1__k2__length_scale': 6.053143210034164, 'k1__k2__length_scale_bounds': (1e-05, 100000.0), 'k1__k2__nu': 1.5, 'k2__noise_level': 0.015044708914105311, 'k2__noise_level_bounds': (1e-05, 100000.0)}\n"
     ]
    }
   ],
   "source": [
    "for i in range(9):\n",
    "    gp.fit(trX[2383*i:2383*i+2382,:], trY[2383*i:2383*i+2382,:])\n",
    "    print(\"%.1f ended\" % i)\n",
    "print(\"learned kernel params\")\n",
    "print(gp.kernel_.get_params())"
   ]
  },
  {
   "cell_type": "code",
   "execution_count": 8,
   "metadata": {},
   "outputs": [
    {
     "name": "stdout",
     "output_type": "stream",
     "text": [
      "(9158, 12)\n"
     ]
    }
   ],
   "source": [
    "predictions, sigma = gp.predict(teX, return_std=True)\n",
    "print(predictions.shape)"
   ]
  },
  {
   "cell_type": "code",
   "execution_count": 9,
   "metadata": {},
   "outputs": [
    {
     "name": "stdout",
     "output_type": "stream",
     "text": [
      "(9158, 12)\n",
      "Test RMSE: 0.125\n",
      "Test MAE: 0.073\n"
     ]
    },
    {
     "data": {
      "image/png": "[encoded data removed]",
      "text/plain": [
       "<Figure size 432x288 with 1 Axes>"
      ]
     },
     "metadata": {
      "needs_background": "light"
     },
     "output_type": "display_data"
    }
   ],
   "source": [
    "predictions = np.array(predictions)\n",
    "print(predictions.shape)\n",
    "rmse_result = root_mean_squared_error(teY, predictions)\n",
    "mae_result = mae(teY, predictions)\n",
    "\n",
    "\n",
    "print('Test RMSE: %.3f' % rmse_result)\n",
    "print('Test MAE: %.3f' % mae_result)\n",
    "\n",
    "\n",
    "plt.plot(teY)\n",
    "plt.plot(predictions, color='red')\n",
    "plt.show()\n",
    "np.savetxt('Gaussian_PREDICTION.txt', predictions)"
   ]
  }
 ],
 "metadata": {
  "kernelspec": {
   "display_name": "Python 3",
   "language": "python",
   "name": "python3"
  },
  "language_info": {
   "codemirror_mode": {
    "name": "ipython",
    "version": 3
   },
   "file_extension": ".py",
   "mimetype": "text/x-python",
   "name": "python",
   "nbconvert_exporter": "python",
   "pygments_lexer": "ipython3",
   "version": "3.6.12"
  }
 },
 "nbformat": 4,
 "nbformat_minor": 4
}
